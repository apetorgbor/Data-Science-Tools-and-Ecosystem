{
 "cells": [
  {
   "cell_type": "markdown",
   "id": "6651dd21",
   "metadata": {},
   "source": [
    "# Data Science Tools and Ecosystem"
   ]
  },
  {
   "cell_type": "markdown",
   "id": "24627f50",
   "metadata": {},
   "source": [
    "## Introduction\n",
    "\n",
    "In this notebook, we will provide a summary of the Data Science Tools and Ecosystem. We'll explore the essential tools and technologies that empower data scientists to analyze, visualize, and extract insights from data. Whether you are a beginner or an experienced data scientist, this overview will help you navigate the rich landscape of tools available in the field of data science.\n"
   ]
  },
  {
   "cell_type": "markdown",
   "id": "e0c43cd2",
   "metadata": {},
   "source": [
    "## Data Science Languages\n",
    "\n",
    "Some of the popular languages that Data Scientists use are:\n",
    "\n",
    "1. **Python**: Python is the most widely used programming language in data science. It offers a vast ecosystem of libraries and frameworks like NumPy, pandas, scikit-learn, and TensorFlow, making it a versatile choice for data analysis, machine learning, and more.\n",
    "\n",
    "2. **R**: R is a language specifically designed for data analysis and statistics. It provides a rich set of packages like ggplot2 and dplyr, making it a powerful tool for data visualization and statistical modeling.\n",
    "\n",
    "3. **SQL (Structured Query Language)**: SQL is essential for working with relational databases. Data scientists use SQL to query, manipulate, and manage data stored in databases, which is a crucial skill for data analysis.\n",
    "\n",
    "4. **Julia**: Julia is an emerging language known for its speed and performance. It's gaining popularity in data science, especially for computationally intensive tasks and numerical simulations.\n",
    "\n",
    "5. **Scala**: Scala, often used with Apache Spark, is a language that combines functional and object-oriented programming paradigms. It's beneficial for big data processing and distributed computing.\n",
    "\n",
    "These languages offer different strengths and are chosen based on the specific needs of a data science project.\n"
   ]
  },
  {
   "cell_type": "markdown",
   "id": "f31629dd",
   "metadata": {},
   "source": [
    "## Data Science Libraries\n",
    "\n",
    "Some of the commonly used libraries used by Data Scientists include:\n",
    "\n",
    "1. **NumPy**: NumPy is a fundamental library for numerical computing in Python. It provides support for large, multi-dimensional arrays and matrices, along with a collection of mathematical functions to operate on these arrays.\n",
    "\n",
    "2. **pandas**: pandas is a powerful data manipulation and analysis library for Python. It offers data structures like DataFrames for efficient data handling, cleaning, and exploration.\n",
    "\n",
    "3. **scikit-learn**: scikit-learn is a machine learning library for Python. It provides a wide range of tools for data mining and data analysis. You can use it for tasks like classification, regression, clustering, and more.\n",
    "\n",
    "4. **Matplotlib**: Matplotlib is a popular Python library for creating static, animated, and interactive visualizations in data science. It offers extensive support for creating plots, charts, and graphs.\n",
    "\n",
    "5. **Seaborn**: Seaborn is a data visualization library based on Matplotlib. It simplifies the creation of informative and attractive statistical graphics and works seamlessly with pandas DataFrames.\n",
    "\n",
    "6. **TensorFlow**: TensorFlow is an open-source machine learning framework developed by Google. It's widely used for deep learning and neural network applications, including natural language processing and computer vision.\n",
    "\n",
    "These libraries are essential tools that empower data scientists to manipulate, analyze, visualize, and build predictive models from data.\n"
   ]
  },
  {
   "cell_type": "markdown",
   "id": "c2bb69ff",
   "metadata": {},
   "source": [
    "## Data Science Tools\n",
    "\n",
    "| Data Science Tools      |\n",
    "|-------------------------|\n",
    "| Jupyter Notebook        |\n",
    "| RStudio                 |\n",
    "| Visual Studio Code (VS Code) |\n"
   ]
  },
  {
   "cell_type": "markdown",
   "id": "e97f0a81",
   "metadata": {},
   "source": [
    "### Arithmetic Expression Examples in Python\n",
    "\n",
    "Below are a few examples of evaluating arithmetic expressions in Python. \n",
    "Python is a versatile programming language that can perform a wide range of mathematical operations and calculations.\n"
   ]
  },
  {
   "cell_type": "code",
   "execution_count": 4,
   "id": "890f578f",
   "metadata": {},
   "outputs": [
    {
     "data": {
      "text/plain": [
       "17"
      ]
     },
     "execution_count": 4,
     "metadata": {},
     "output_type": "execute_result"
    }
   ],
   "source": [
    "## This is a simple arithmetic expression to multiply then add integers.\n",
    "result = (3 * 4) + 5\n",
    "result"
   ]
  },
  {
   "cell_type": "code",
   "execution_count": 5,
   "id": "19160873",
   "metadata": {},
   "outputs": [
    {
     "data": {
      "text/plain": [
       "3.3333333333333335"
      ]
     },
     "execution_count": 5,
     "metadata": {},
     "output_type": "execute_result"
    }
   ],
   "source": [
    "# This will convert 200 minutes to hours by dividing by 60.\n",
    "minutes = 200\n",
    "hours = minutes / 60\n",
    "hours"
   ]
  },
  {
   "cell_type": "markdown",
   "id": "7cff9166",
   "metadata": {},
   "source": [
    "## Objectives:\n",
    "\n",
    "- **List popular languages for Data Science**\n",
    "- **Introduce commonly used Data Science libraries**\n",
    "- **Demonstrate basic arithmetic expressions in Python**\n",
    "- **Illustrate the conversion of minutes to hours**\n",
    "- **Provide an overview of Data Science tools and ecosystems**\n"
   ]
  },
  {
   "cell_type": "markdown",
   "id": "30dc3e06",
   "metadata": {},
   "source": [
    "## Author\n",
    "\n",
    "Apetorgbor Israel\n"
   ]
  },
  {
   "cell_type": "code",
   "execution_count": null,
   "id": "0f4aa869",
   "metadata": {},
   "outputs": [],
   "source": []
  }
 ],
 "metadata": {
  "kernelspec": {
   "display_name": "Python 3 (ipykernel)",
   "language": "python",
   "name": "python3"
  },
  "language_info": {
   "codemirror_mode": {
    "name": "ipython",
    "version": 3
   },
   "file_extension": ".py",
   "mimetype": "text/x-python",
   "name": "python",
   "nbconvert_exporter": "python",
   "pygments_lexer": "ipython3",
   "version": "3.10.12"
  }
 },
 "nbformat": 4,
 "nbformat_minor": 5
}
